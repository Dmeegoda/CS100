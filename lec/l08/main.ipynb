{
 "cells": [
  {
   "cell_type": "markdown",
   "metadata": {},
   "source": [
    "<br><br>\n",
    "\n",
    "## CS100: Introduction to the Profession\n",
    "### Complexity Lab\n",
    "<br>\n",
    "**Aron Culotta**  \n",
    "**Illinois Institute of Technology**  \n",
    "\n",
    "<br><br><br><br>\n"
   ]
  },
  {
   "cell_type": "markdown",
   "metadata": {},
   "source": [
    "## Part 1\n",
    "\n",
    "- Suppose I give you five cards like this:\n",
    "\n",
    "![cards](cards.png)\n",
    "\n",
    "1. Take a moment to think about how you would sort these cards in ascending order (1...5)\n",
    "\n",
    "<br><br><br><br>\n",
    "\n",
    "2. Take a sheet of paper and write out step-by-step instructions for how you would sort these cards. This is the pseudo-code for your sorting algorithm.\n",
    "\n",
    "<br><br><br><br>\n",
    "\n",
    "\n",
    "\n",
    "\n",
    "3. Now, following your pseudo-code, count how many **steps** it takes to sort these five numbers.\n",
    "  - If you follow each number with your finger, then a **step** is defined as a move of your finger from number to another.\n",
    "  \n",
    "  \n",
    "<br><br><br><br>\n",
    "\n",
    "4. Repeat step 3, but instead assume the cards are in the order\n",
    "\n",
    "> 5 4 3 2 1  \n",
    "\n",
    "  Now how many steps does your algorithm require?\n",
    " \n",
    "<br><br><br><br>\n",
    "5. Now, find a neighbor and share your pseudo-code with them. Have them count the number of steps for each input: (3,2,5,1,4) and (5,4,3,2,1)\n",
    "  - Do your counts agree?\n",
    "  - If not, why not?\n",
    "  \n",
    "  \n",
    "<br><br><br><br>\n",
    "\n",
    "6. Going back to your own pseudo-code, how many steps does your algorithm take for a list of 10 elements?\n",
    "\n",
    "<br><br><br><br><br><br><br><br>\n",
    "\n",
    "7. How many steps do you think it would take if the input was (100,99,...,2,1)?\n",
    "\n",
    "<br><br><br><br>\n",
    "\n",
    "8. What function characterizes how the number of steps relates to the size of the input?\n",
    "  - **a constant function** - number of steps are the same regardless of the number of cards.\n",
    "  - **a linear function of $n$** - as the number of cards increases by $n$, the number of steps increases by $m * n$, where m is a constant.\n",
    "  - **a polynomial function of $n$** - as the number of cards increases by $n$, the number of steps increases by $n^p$, where $p$ is a constant.\n",
    "  - **an exponential function of $n$** - as the number of cards increases by $n$, the number of steps increases by $m^n$, where m is a constant.\n",
    "  "
   ]
  },
  {
   "cell_type": "markdown",
   "metadata": {},
   "source": [
    "```\n",
    "1. Place your finger on the leftmost card.\n",
    "2. If that card’s value is larger than the value of the card to its right, swap the two cards.\n",
    "                        a. Swap the two cards\n",
    "                        b. Go back to step 1 \n",
    "3. Else if that card’s value is smaller than the value of the card to its right, move your finger to the card on the right (with the bigger number). \n",
    "4. Repeat steps 2 - 3 until your finger is on the rightmost card.\n",
    "```"
   ]
  },
  {
   "cell_type": "code",
   "execution_count": 5,
   "metadata": {},
   "outputs": [
    {
     "name": "stdout",
     "output_type": "stream",
     "text": [
      "Original List [9, 8, 7, 6, 5, 4, 3, 2, 1, 0]\n",
      "Sorted List [0, 1, 2, 3, 4, 5, 6, 7, 8, 9]\n",
      "Steps used: 174\n",
      "Total time: 0.00041961669921875\n"
     ]
    }
   ],
   "source": [
    "from time import time\n",
    "from random import shuffle\n",
    "\n",
    "n = 10    #Number of items in the list\n",
    "myList = list(range(n))\n",
    "\n",
    "#shuffle(myList)    #Randomly shuffle the order of myList\n",
    "myList.reverse()   #myList is put in reverse order\n",
    "\n",
    "print('Original List', myList)\n",
    "pos = 0    #Which position are you in the list\n",
    "step = 0   #Keep track of the number of steps to complete the sort\n",
    "start = 0  #Initialize the start time\n",
    "\n",
    "start = time()    #Get the start time\n",
    "while (pos < len(myList) - 1):    #Pseudocode line 4\n",
    "    if myList[pos] > myList[pos + 1]:    #Pseudocode line 2\n",
    "        myList[pos], myList[pos + 1] = myList[pos + 1], myList[pos] #Swap\n",
    "        pos = 0    #Pseudocode line 2a\n",
    "    else:\n",
    "        pos += 1    #Pseudocode line 3\n",
    "    step += 1\n",
    "\n",
    "print('Sorted List', myList)\n",
    "print('Steps used:', step)\n",
    "print('Total time:', time() - start)    #Print out the time elapsed"
   ]
  },
  {
   "cell_type": "code",
   "execution_count": 3,
   "metadata": {},
   "outputs": [
    {
     "data": {
      "application/javascript": [
       "IPython.notebook.set_autosave_interval(0)"
      ]
     },
     "metadata": {},
     "output_type": "display_data"
    },
    {
     "name": "stdout",
     "output_type": "stream",
     "text": [
      "Autosave disabled\n"
     ]
    }
   ],
   "source": [
    "# for custom notebook formatting.\n",
    "from IPython.core.display import HTML\n",
    "HTML(open('../custom.css').read())\n",
    "%autosave 0"
   ]
  }
 ],
 "metadata": {
  "kernelspec": {
   "display_name": "Python 3",
   "language": "python",
   "name": "python3"
  },
  "language_info": {
   "codemirror_mode": {
    "name": "ipython",
    "version": 3
   },
   "file_extension": ".py",
   "mimetype": "text/x-python",
   "name": "python",
   "nbconvert_exporter": "python",
   "pygments_lexer": "ipython3",
   "version": "3.7.0"
  }
 },
 "nbformat": 4,
 "nbformat_minor": 2
}
